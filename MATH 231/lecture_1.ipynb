{
 "cells": [
  {
   "cell_type": "markdown",
   "id": "218b27d0-741a-43e8-b87c-71b3f6a66933",
   "metadata": {},
   "source": [
    "## Brief Outline\n",
    "\n",
    " * Uniform Probabilities\n",
    "   - Flipping coins, random draw, permutations\n",
    "   - Probabilities in terms of the ratio of the number of elements divided by the size of the objective space\n",
    " *   Outcome Space, Events, Realizations \n",
    " *   Simulating Uniform Draws\n",
    " *   Long Run Probabilities\n",
    " *   Axioms of probability \n",
    " *   Partitions\n",
    " *   Derive uniform probability rule from 3rd axiom"
   ]
  },
  {
   "cell_type": "code",
   "execution_count": 2,
   "id": "e9d92eab-5fba-4147-98ff-14b42cf8b896",
   "metadata": {},
   "outputs": [],
   "source": [
    "import random as rnd"
   ]
  },
  {
   "cell_type": "markdown",
   "id": "3b30cb2e-7a39-41b7-9ffb-8f5353385c07",
   "metadata": {},
   "source": [
    "## Uniform Draw from $(0,1)$"
   ]
  },
  {
   "cell_type": "code",
   "execution_count": 7,
   "id": "d5fb331a-293f-4aad-a461-805694733013",
   "metadata": {},
   "outputs": [
    {
     "data": {
      "text/plain": [
       "0.2590057257052205"
      ]
     },
     "execution_count": 7,
     "metadata": {},
     "output_type": "execute_result"
    }
   ],
   "source": [
    "rnd.random()"
   ]
  },
  {
   "cell_type": "markdown",
   "id": "077761bb-a7ae-4156-b414-f536c06c5425",
   "metadata": {},
   "source": [
    "## Unifom Draw from set $\\{1,2,3,4,5,6\\}$"
   ]
  },
  {
   "cell_type": "code",
   "execution_count": 12,
   "id": "75822aed-afd3-4854-aca7-ae02baa2336d",
   "metadata": {},
   "outputs": [
    {
     "data": {
      "text/plain": [
       "6"
      ]
     },
     "execution_count": 12,
     "metadata": {},
     "output_type": "execute_result"
    }
   ],
   "source": [
    "int(6*rnd.random()+1)"
   ]
  },
  {
   "cell_type": "markdown",
   "id": "acfbd0eb-e357-468f-a0bf-f8f857ddfd97",
   "metadata": {},
   "source": [
    "\n",
    "\n",
    "\n",
    "\n",
    "\n",
    "\n",
    "\n",
    "\n",
    "\n",
    "\n",
    "\n",
    "\n",
    "\n",
    "\n",
    "\n",
    "\n",
    "\n"
   ]
  },
  {
   "cell_type": "markdown",
   "id": "b4ede868-5d52-4d39-87cd-b3813e7bc9c8",
   "metadata": {},
   "source": [
    "## A second Option"
   ]
  },
  {
   "cell_type": "code",
   "execution_count": 14,
   "id": "ecf92f32-2613-4eb4-a4c4-0ac6d1a3ad1c",
   "metadata": {},
   "outputs": [],
   "source": [
    "def randomRoll(n):\n",
    "    roll = int(n*rnd.random()+1)\n",
    "    return roll"
   ]
  },
  {
   "cell_type": "code",
   "execution_count": 17,
   "id": "bb248dac-b4e5-4d87-9a39-a714365bd22f",
   "metadata": {},
   "outputs": [
    {
     "data": {
      "text/plain": [
       "6"
      ]
     },
     "execution_count": 17,
     "metadata": {},
     "output_type": "execute_result"
    }
   ],
   "source": [
    "randomRoll(6)"
   ]
  },
  {
   "cell_type": "code",
   "execution_count": 22,
   "id": "fe07c332-5dba-4156-8ec3-bea6ce44ec28",
   "metadata": {},
   "outputs": [
    {
     "data": {
      "text/plain": [
       "7"
      ]
     },
     "execution_count": 22,
     "metadata": {},
     "output_type": "execute_result"
    }
   ],
   "source": [
    "randomRoll(20)"
   ]
  },
  {
   "cell_type": "code",
   "execution_count": 24,
   "id": "93ea349b-77a4-4da0-83f3-7aecbdd145d4",
   "metadata": {},
   "outputs": [
    {
     "data": {
      "text/plain": [
       "[5, 6, 6, 6, 4, 3, 2, 3, 5, 4, 6, 1, 4, 5, 4, 2, 5, 2, 1, 5]"
      ]
     },
     "execution_count": 24,
     "metadata": {},
     "output_type": "execute_result"
    }
   ],
   "source": [
    "[ randomRoll(6) for i in range(20)]"
   ]
  },
  {
   "cell_type": "markdown",
   "id": "35373db7-3b1e-4c05-98c9-b091d2a88510",
   "metadata": {},
   "source": [
    "## A third option"
   ]
  },
  {
   "cell_type": "code",
   "execution_count": 14,
   "id": "4c39fcb7-0602-402d-9596-e05da97ba291",
   "metadata": {},
   "outputs": [
    {
     "data": {
      "text/plain": [
       "[4, 4, 3, 1, 5, 6, 1, 4, 1, 1, 2, 1, 6, 1, 6, 5, 4, 4, 5, 5]"
      ]
     },
     "execution_count": 14,
     "metadata": {},
     "output_type": "execute_result"
    }
   ],
   "source": [
    "[ rnd.choice(range(6))+1 for k in range(20)]"
   ]
  },
  {
   "cell_type": "markdown",
   "id": "81d20e9b-75e5-4559-9d2e-6e7a35cad7e3",
   "metadata": {},
   "source": [
    "# Flipping Coins"
   ]
  },
  {
   "cell_type": "code",
   "execution_count": 25,
   "id": "a73dfb33-2870-44c9-a7d8-f63415844c32",
   "metadata": {},
   "outputs": [
    {
     "data": {
      "text/plain": [
       "'T'"
      ]
     },
     "execution_count": 25,
     "metadata": {},
     "output_type": "execute_result"
    }
   ],
   "source": [
    "Omega=[\"H\",\"T\"]\n",
    "rnd.choice(Omega)"
   ]
  },
  {
   "cell_type": "code",
   "execution_count": 26,
   "id": "fe2b5255-dbd1-4806-b611-0a981f30a571",
   "metadata": {},
   "outputs": [
    {
     "data": {
      "text/plain": [
       "['T', 'H', 'T', 'T', 'H', 'H', 'H', 'T', 'T', 'H', 'T', 'H', 'H', 'T', 'H']"
      ]
     },
     "execution_count": 26,
     "metadata": {},
     "output_type": "execute_result"
    }
   ],
   "source": [
    "[ rnd.choice(Omega) for k in range(15)]"
   ]
  },
  {
   "cell_type": "code",
   "execution_count": 28,
   "id": "e70380aa-bd17-4803-b74a-430a0f7d5de1",
   "metadata": {},
   "outputs": [
    {
     "data": {
      "text/plain": [
       "0.16666666666666666"
      ]
     },
     "execution_count": 28,
     "metadata": {},
     "output_type": "execute_result"
    }
   ],
   "source": [
    "1/6"
   ]
  },
  {
   "cell_type": "markdown",
   "id": "b46b0eee-d005-4632-b941-ad882a84341e",
   "metadata": {},
   "source": [
    "# Long Run Probablities "
   ]
  },
  {
   "cell_type": "code",
   "execution_count": 40,
   "id": "0981f27b-559d-4917-b6a8-014bb8b01b7f",
   "metadata": {},
   "outputs": [
    {
     "name": "stdout",
     "output_type": "stream",
     "text": [
      "254 threes in 1500 samples.\n",
      "The observed fraction of threes is 0.1693\n"
     ]
    },
    {
     "data": {
      "image/png": "[encoded data removed]",
      "text/plain": [
       "<Figure size 640x480 with 1 Axes>"
      ]
     },
     "metadata": {},
     "output_type": "display_data"
    }
   ],
   "source": [
    "import matplotlib.pyplot as plt\n",
    "\n",
    "N =1500\n",
    "samples=[]\n",
    "threeFreqOverTime=[]\n",
    "numberOfThrees=0\n",
    "for i in range(N):\n",
    "  sample=int(6*rnd.random()+1) \n",
    "  samples.append(sample)\n",
    "  if sample==3:\n",
    "    numberOfThrees+=1\n",
    "\n",
    "  # Need to add 1 to i because it starts at 0\n",
    "  threeFreqOverTime.append(numberOfThrees/(i+1)) \n",
    "\n",
    "#print out frequency\n",
    "print(f\"{numberOfThrees} threes in {N} samples.\")\n",
    "print(\"The observed fraction of threes is {:.4g}\".format(numberOfThrees/N))\n",
    "# Make Plots\n",
    "plt.plot(range(1,N+1), threeFreqOverTime)\n",
    "if N <10:\n",
    "    plt.scatter(range(1,N+1), threeFreqOverTime)\n",
    "plt.xlabel(\"Number of Samples\")\n",
    "plt.ylabel(\"Observe frequence of 3s\")\n",
    "plt.title(\"{:,} samples : run 1\".format(N))\n",
    "plt.show()"
   ]
  },
  {
   "cell_type": "markdown",
   "id": "2e041319-0bf8-4914-a34b-0e961aa11ea2",
   "metadata": {},
   "source": [
    "## Second Example"
   ]
  },
  {
   "cell_type": "code",
   "execution_count": 39,
   "id": "3dca97b3-85f6-4535-a0c6-83840edcb3c8",
   "metadata": {},
   "outputs": [
    {
     "name": "stdout",
     "output_type": "stream",
     "text": [
      "23 of sample divisible by 5 and 6 in 500 samples.\n",
      "The observed fraction divisible is 0.046\n"
     ]
    },
    {
     "data": {
      "image/png": "[encoded data removed]",
      "text/plain": [
       "<Figure size 640x480 with 1 Axes>"
      ]
     },
     "metadata": {},
     "output_type": "display_data"
    }
   ],
   "source": [
    "import random as rnd\n",
    "import matplotlib.pyplot as plt\n",
    "\n",
    "N =500\n",
    "samples=[]\n",
    "divisibleOverTime=[]\n",
    "divisible=0\n",
    "for i in range(N):\n",
    "  sample=int(100*rnd.random()) # unifrom between 0 and 99\n",
    "  samples.append(sample)\n",
    "  if ((sample % 5)==0 and (sample % 6)==0):\n",
    "    divisible+=1\n",
    "\n",
    "  # Need to add 1 to i because it starts at 0\n",
    "  divisibleOverTime.append(divisible/(i+1)) \n",
    "#print out the frequency\n",
    "print(f\"{divisible} of sample divisible by 5 and 6 in {N} samples.\")\n",
    "print(\"The observed fraction divisible is {:.4g}\".format(divisible/N))\n",
    "#plots\n",
    "plt.plot(range(1,N+1),divisableOverTime)\n",
    "plt.xlabel(\"Number of Samples\")\n",
    "plt.ylabel(\"Observe frequency of divisible\")\n",
    "plt.title(\"Probability is Divisible by 6 and 5\")\n",
    "plt.show()"
   ]
  },
  {
   "cell_type": "code",
   "execution_count": null,
   "id": "192b5f50-ccb6-405d-85ea-46511b716ffc",
   "metadata": {},
   "outputs": [],
   "source": []
  }
 ],
 "metadata": {
  "kernelspec": {
   "display_name": "Python 3 (ipykernel)",
   "language": "python",
   "name": "python3"
  },
  "language_info": {
   "codemirror_mode": {
    "name": "ipython",
    "version": 3
   },
   "file_extension": ".py",
   "mimetype": "text/x-python",
   "name": "python",
   "nbconvert_exporter": "python",
   "pygments_lexer": "ipython3",
   "version": "3.11.7"
  }
 },
 "nbformat": 4,
 "nbformat_minor": 5
}
