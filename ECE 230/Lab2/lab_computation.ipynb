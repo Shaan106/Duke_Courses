{
 "cells": [
  {
   "cell_type": "code",
   "execution_count": 66,
   "metadata": {},
   "outputs": [],
   "source": [
    "import numpy as np\n",
    "import matplotlib.pyplot as plt\n",
    "import pandas as pd"
   ]
  },
  {
   "cell_type": "markdown",
   "metadata": {},
   "source": [
    "### Loading in the measured data from .csv files"
   ]
  },
  {
   "cell_type": "code",
   "execution_count": 12,
   "metadata": {},
   "outputs": [],
   "source": [
    "# import in the csv files\n",
    "wafer1_resistance_ohm = pd.read_csv('wafer1_resistance_ohm.csv')\n",
    "wafer2_resistance_ohm = pd.read_csv('wafer2_resistance_ohm.csv')\n",
    "wafer3_resistance_ohm = pd.read_csv('wafer3_resistance_ohm.csv')\n",
    "\n",
    "wafer1_thickness_um = pd.read_csv('wafer1_thickness_um.csv')\n",
    "wafer2_thickness_um = pd.read_csv('wafer2_thickness_um.csv')\n",
    "wafer3_thickness_um = pd.read_csv('wafer3_thickness_um.csv')\n",
    "\n",
    "# convert to numpy\n",
    "wafer1_resistance_ohm = wafer1_resistance_ohm.to_numpy()\n",
    "wafer2_resistance_ohm = wafer2_resistance_ohm.to_numpy()\n",
    "wafer3_resistance_ohm = wafer3_resistance_ohm.to_numpy()\n",
    "\n",
    "wafer1_thickness_um = wafer1_thickness_um.to_numpy()\n",
    "wafer2_thickness_um = wafer2_thickness_um.to_numpy()\n",
    "wafer3_thickness_um = wafer3_thickness_um.to_numpy()\n",
    "\n",
    "# thickness should be constant so convert into average scalar\n",
    "wafer1_thickness_um = np.mean(wafer1_thickness_um)\n",
    "wafer2_thickness_um = np.mean(wafer2_thickness_um)\n",
    "wafer3_thickness_um = np.mean(wafer3_thickness_um)"
   ]
  },
  {
   "cell_type": "markdown",
   "metadata": {},
   "source": [
    "## Calculating Resistivity from Probe Measurement"
   ]
  },
  {
   "cell_type": "code",
   "execution_count": 49,
   "metadata": {},
   "outputs": [],
   "source": [
    "# calculating Rs\n",
    "def sheet_resistance(resistance):\n",
    "    correction_factor = np.pi / np.log(2)\n",
    "    return resistance * correction_factor\n",
    "\n",
    "# calculating resistivity in ohm-cm\n",
    "\n",
    "def resistivity(sheet_resistance, thickness):\n",
    "    # sheet_resistance is a numpy array\n",
    "    # thickness is a scalar\n",
    "    um_factor = 10**-4\n",
    "    return sheet_resistance * thickness * um_factor"
   ]
  },
  {
   "cell_type": "code",
   "execution_count": 50,
   "metadata": {},
   "outputs": [
    {
     "name": "stdout",
     "output_type": "stream",
     "text": [
      "Wafer 1 average resistivity:  3.8891992592936386 ohm-cm\n"
     ]
    }
   ],
   "source": [
    "# wafer 1\n",
    "\n",
    "wafer1_sheet_resistance = sheet_resistance(wafer1_resistance_ohm)\n",
    "wafer1_resistivity = resistivity(wafer1_sheet_resistance, wafer1_thickness_um)\n",
    "\n",
    "wafer1_avg_resistivity = np.mean(wafer1_resistivity)\n",
    "\n",
    "print(\"Wafer 1 average resistivity: \", wafer1_avg_resistivity, \"ohm-cm\")"
   ]
  },
  {
   "cell_type": "code",
   "execution_count": 51,
   "metadata": {},
   "outputs": [
    {
     "name": "stdout",
     "output_type": "stream",
     "text": [
      "Wafer 2 average resistivity:  0.04575236771860856 ohm-cm\n"
     ]
    }
   ],
   "source": [
    "# wafer 2\n",
    "\n",
    "wafer2_sheet_resistance = sheet_resistance(wafer2_resistance_ohm)\n",
    "wafer2_resistivity = resistivity(wafer2_sheet_resistance, wafer2_thickness_um)\n",
    "\n",
    "wafer2_avg_resistivity = np.mean(wafer2_resistivity)\n",
    "\n",
    "print(\"Wafer 2 average resistivity: \", wafer2_avg_resistivity, \"ohm-cm\")"
   ]
  },
  {
   "cell_type": "code",
   "execution_count": 52,
   "metadata": {},
   "outputs": [
    {
     "name": "stdout",
     "output_type": "stream",
     "text": [
      "Wafer 3 average resistivity:  4.438146238968281 ohm-cm\n"
     ]
    }
   ],
   "source": [
    "# wafer 3\n",
    "\n",
    "wafer3_sheet_resistance = sheet_resistance(wafer3_resistance_ohm)\n",
    "wafer3_resistivity = resistivity(wafer3_sheet_resistance, wafer3_thickness_um)\n",
    "\n",
    "wafer3_avg_resistivity = np.mean(wafer3_resistivity)\n",
    "\n",
    "print(\"Wafer 3 average resistivity: \", wafer3_avg_resistivity, \"ohm-cm\")"
   ]
  },
  {
   "cell_type": "code",
   "execution_count": 53,
   "metadata": {},
   "outputs": [
    {
     "name": "stdout",
     "output_type": "stream",
     "text": [
      "Wafer 1 average resistivity:  3.88920e+00 ohm-cm\n",
      "Wafer 2 average resistivity:  4.57524e-02 ohm-cm\n",
      "Wafer 3 average resistivity:  4.43815e+00 ohm-cm\n"
     ]
    }
   ],
   "source": [
    "# in scientific notation\n",
    "print(\"Wafer 1 average resistivity: \", \"{:.5e}\".format(wafer1_avg_resistivity), \"ohm-cm\")\n",
    "print(\"Wafer 2 average resistivity: \", \"{:.5e}\".format(wafer2_avg_resistivity), \"ohm-cm\")\n",
    "print(\"Wafer 3 average resistivity: \", \"{:.5e}\".format(wafer3_avg_resistivity), \"ohm-cm\")"
   ]
  },
  {
   "cell_type": "markdown",
   "metadata": {},
   "source": [
    "## Determining Carrier Concentration for Resistivity Data"
   ]
  },
  {
   "cell_type": "code",
   "execution_count": 54,
   "metadata": {},
   "outputs": [],
   "source": [
    "# Assumptions and equations\n",
    "\n",
    "mu_p = 480 # V/cm-s\n",
    "N_d = 0 # cm^-3\n",
    "# and Complete ionization\n",
    "q = 1.6 * 10**-19 # C\n",
    "\n",
    "# N_a is the impurity concentration N_I\n",
    "\n",
    "def impurity_concentration(q, mu_p, rho):\n",
    "    return 1 / (q * mu_p * rho)"
   ]
  },
  {
   "cell_type": "code",
   "execution_count": 61,
   "metadata": {},
   "outputs": [
    {
     "name": "stdout",
     "output_type": "stream",
     "text": [
      "Wafer 1 average impurity concentration:  3348175090103037.0 cm^-3\n"
     ]
    }
   ],
   "source": [
    "# wafer 1 impurity concentration\n",
    "\n",
    "wafer1_impurity_concentration = impurity_concentration(q, mu_p, wafer1_resistivity)\n",
    "wafer1_avg_impurity_concentration = np.mean(wafer1_impurity_concentration)\n",
    "\n",
    "print(\"Wafer 1 average impurity concentration: \", wafer1_avg_impurity_concentration, \"cm^-3\")"
   ]
  },
  {
   "cell_type": "code",
   "execution_count": 62,
   "metadata": {},
   "outputs": [
    {
     "name": "stdout",
     "output_type": "stream",
     "text": [
      "Wafer 2 average impurity concentration:  2.846667579511292e+17 cm^-3\n"
     ]
    }
   ],
   "source": [
    "# wafer 2 impurity concentration\n",
    "\n",
    "wafer2_impurity_concentration = impurity_concentration(q, mu_p, wafer2_resistivity)\n",
    "wafer2_avg_impurity_concentration = np.mean(wafer2_impurity_concentration)\n",
    "\n",
    "print(\"Wafer 2 average impurity concentration: \", wafer2_avg_impurity_concentration, \"cm^-3\")"
   ]
  },
  {
   "cell_type": "code",
   "execution_count": 63,
   "metadata": {},
   "outputs": [
    {
     "name": "stdout",
     "output_type": "stream",
     "text": [
      "Wafer 3 average impurity concentration:  2933918241062257.0 cm^-3\n"
     ]
    }
   ],
   "source": [
    "# wafer 3 impurity concentration\n",
    "\n",
    "wafer3_impurity_concentration = impurity_concentration(q, mu_p, wafer3_resistivity)\n",
    "wafer3_avg_impurity_concentration = np.mean(wafer3_impurity_concentration)\n",
    "\n",
    "print(\"Wafer 3 average impurity concentration: \", wafer3_avg_impurity_concentration, \"cm^-3\")"
   ]
  },
  {
   "cell_type": "code",
   "execution_count": 64,
   "metadata": {},
   "outputs": [
    {
     "name": "stdout",
     "output_type": "stream",
     "text": [
      "Wafer 1 average impurity concentration:  3.34818e+15 cm^-3\n",
      "Wafer 2 average impurity concentration:  2.84667e+17 cm^-3\n",
      "Wafer 3 average impurity concentration:  2.93392e+15 cm^-3\n"
     ]
    }
   ],
   "source": [
    "# in scientific notation\n",
    "print(\"Wafer 1 average impurity concentration: \", \"{:.5e}\".format(wafer1_avg_impurity_concentration), \"cm^-3\")\n",
    "print(\"Wafer 2 average impurity concentration: \", \"{:.5e}\".format(wafer2_avg_impurity_concentration), \"cm^-3\")\n",
    "print(\"Wafer 3 average impurity concentration: \", \"{:.5e}\".format(wafer3_avg_impurity_concentration), \"cm^-3\")"
   ]
  },
  {
   "cell_type": "markdown",
   "metadata": {},
   "source": [
    "## Plot of Impurity Concentration vs. Resistivity"
   ]
  },
  {
   "cell_type": "markdown",
   "metadata": {},
   "source": [
    "Plot on a log-log scale the impurity concentration, NI (in this case, the same as the \\\n",
    "carrier concentration, NA) versus resistivity, ρ for the class data set. Your plot should \\\n",
    "resemble Figure 5.4 on pp. 165 of the Neamen text. Remember that the SMIF samples \\\n",
    "were all p-type (Boron) doped. This plot should have many values of ρ and NI based \\\n",
    "on the class data."
   ]
  },
  {
   "cell_type": "code",
   "execution_count": 84,
   "metadata": {},
   "outputs": [
    {
     "data": {
      "image/png": "[encoded data removed]",
      "text/plain": [
       "<Figure size 640x480 with 1 Axes>"
      ]
     },
     "metadata": {},
     "output_type": "display_data"
    }
   ],
   "source": [
    "wafer_resistivity_all_points = np.concatenate((wafer1_resistivity, wafer2_resistivity, wafer3_resistivity))\n",
    "wafer_impurity_concentration_all_points = np.concatenate((wafer1_impurity_concentration, wafer2_impurity_concentration, wafer3_impurity_concentration))\n",
    "\n",
    "wafer1_avg_impurity_concentration_arr = np.zeros(len(wafer1_resistivity))\n",
    "wafer2_avg_impurity_concentration_arr = np.zeros(len(wafer2_resistivity))\n",
    "wafer3_avg_impurity_concentration_arr = np.zeros(len(wafer3_resistivity))\n",
    "\n",
    "for i in range(len(wafer1_resistivity)):\n",
    "    wafer1_avg_impurity_concentration_arr[i] = wafer1_avg_impurity_concentration\n",
    "    wafer2_avg_impurity_concentration_arr[i] = wafer2_avg_impurity_concentration\n",
    "    wafer3_avg_impurity_concentration_arr[i] = wafer3_avg_impurity_concentration\n",
    "\n",
    "wafer_avg_impurity_concentration_arr = np.concatenate((wafer1_avg_impurity_concentration_arr, wafer2_avg_impurity_concentration_arr, wafer3_avg_impurity_concentration_arr))\n",
    "\n",
    "\n",
    "# plotting on log log scale\n",
    "# N_a on y axis and resistivity on x axis\n",
    "plt.scatter(wafer1_resistivity, wafer1_avg_impurity_concentration_arr, color='blue')\n",
    "plt.scatter(wafer2_resistivity, wafer2_avg_impurity_concentration_arr, color='red')\n",
    "plt.scatter(wafer3_resistivity, wafer3_avg_impurity_concentration_arr, color='green')\n",
    "plt.legend(['Wafer 1', 'Wafer 2', 'Wafer 3'])\n",
    "plt.xscale('log')\n",
    "plt.yscale('log')\n",
    "plt.xlabel('Resistivity (ohm-cm)')\n",
    "plt.ylabel('Impurity Concentration (cm^-3)')\n",
    "plt.title('Impurity Concentration vs Resistivity')\n",
    "plt.show()\n"
   ]
  },
  {
   "cell_type": "markdown",
   "metadata": {},
   "source": [
    "Determine a curve-fit to this data from the above plot."
   ]
  },
  {
   "cell_type": "code",
   "execution_count": 88,
   "metadata": {},
   "outputs": [
    {
     "data": {
      "image/png": "[encoded data removed]",
      "text/plain": [
       "<Figure size 640x480 with 1 Axes>"
      ]
     },
     "metadata": {},
     "output_type": "display_data"
    },
    {
     "name": "stdout",
     "output_type": "stream",
     "text": [
      "Slope of the fit line:  -0.9999977224654075\n",
      "Intercept of the fit line:  37.10538567394722\n"
     ]
    }
   ],
   "source": [
    "fit = np.polyfit(np.log(wafer_resistivity_all_points.flatten()), np.log(wafer_avg_impurity_concentration_arr.flatten()), deg=1)\n",
    "fit_fn = np.poly1d(fit)\n",
    "\n",
    "plt.scatter(wafer_resistivity_all_points, wafer_avg_impurity_concentration_arr)\n",
    "plt.plot(wafer_resistivity_all_points, np.exp(fit_fn(np.log(wafer_resistivity_all_points))), color='red')\n",
    "plt.legend(['Data', 'Fit'])\n",
    "plt.xscale('log')\n",
    "plt.yscale('log')\n",
    "plt.xlabel('Resistivity (ohm-cm)')\n",
    "plt.ylabel('Impurity Concentration (cm^-3)')\n",
    "plt.title('Impurity Concentration vs Resistivity')\n",
    "plt.show()\n",
    "\n",
    "print(\"Slope of the fit line: \", fit[0])\n",
    "print(\"Intercept of the fit line: \", fit[1])\n"
   ]
  },
  {
   "cell_type": "markdown",
   "metadata": {},
   "source": [
    "What is the spread in resistivity data for the carrier concentrations of each wafer? You \\\n",
    "should report the 3 spreads as one number each, not a range of values. \\\n",
    "(e.g. max - min, standard deviation, variance)"
   ]
  },
  {
   "cell_type": "code",
   "execution_count": 101,
   "metadata": {},
   "outputs": [
    {
     "name": "stdout",
     "output_type": "stream",
     "text": [
      "Wafer 1: \n",
      "         min:  3.8408751326335575\n",
      "         max:  3.9596309996916004\n",
      "         pct diff from mean of max and min:  3.053478599078296\n",
      "         standard deviation:  0.03214411704372631\n",
      "         variance:  0.001033244260520776\n",
      "Wafer 2: \n",
      "         min:  0.043724800500578066\n",
      "         max:  0.04682236226997136\n",
      "         pct diff from mean of max and min:  6.770276433438963\n",
      "         standard deviation:  0.0007292571778855838\n",
      "         variance:  5.318160314976461e-07\n",
      "Wafer 3: \n",
      "         min:  4.401435848648695\n",
      "         max:  4.484643454254037\n",
      "         pct diff from mean of max and min:  1.8748279377266648\n",
      "         standard deviation:  0.02218330841929633\n",
      "         variance:  0.0004920991724256234\n"
     ]
    }
   ],
   "source": [
    "#standard dev\n",
    "wafer1_resistivity_std = np.std(wafer1_resistivity)\n",
    "wafer2_resistivity_std = np.std(wafer2_resistivity)\n",
    "wafer3_resistivity_std = np.std(wafer3_resistivity)\n",
    "\n",
    "# variance\n",
    "wafer1_resistivity_var = np.var(wafer1_resistivity)\n",
    "wafer2_resistivity_var = np.var(wafer2_resistivity)\n",
    "wafer3_resistivity_var = np.var(wafer3_resistivity)\n",
    "\n",
    "#min\n",
    "wafer1_resistivity_min = np.min(wafer1_resistivity)\n",
    "wafer2_resistivity_min = np.min(wafer2_resistivity)\n",
    "wafer3_resistivity_min = np.min(wafer3_resistivity)\n",
    "\n",
    "#max\n",
    "wafer1_resistivity_max = np.max(wafer1_resistivity)\n",
    "wafer2_resistivity_max = np.max(wafer2_resistivity)\n",
    "wafer3_resistivity_max = np.max(wafer3_resistivity)\n",
    "\n",
    "# % diff from mean of max and min\n",
    "wafer1_resistivity_diff = (wafer1_resistivity_max - wafer1_resistivity_min) / wafer1_avg_resistivity * 100\n",
    "wafer2_resistivity_diff = (wafer2_resistivity_max - wafer2_resistivity_min) / wafer2_avg_resistivity * 100\n",
    "wafer3_resistivity_diff = (wafer3_resistivity_max - wafer3_resistivity_min) / wafer3_avg_resistivity * 100\n",
    "\n",
    "print(\"Wafer 1: \")\n",
    "print(\"         min: \", np.min(wafer1_resistivity))\n",
    "print(\"         max: \", np.max(wafer1_resistivity))\n",
    "print(\"         pct diff from mean of max and min: \", wafer1_resistivity_diff)\n",
    "print(\"         standard deviation: \", wafer1_resistivity_std)\n",
    "print(\"         variance: \", wafer1_resistivity_std**2)\n",
    "\n",
    "print(\"Wafer 2: \")\n",
    "print(\"         min: \", np.min(wafer2_resistivity))\n",
    "print(\"         max: \", np.max(wafer2_resistivity))\n",
    "print(\"         pct diff from mean of max and min: \", wafer2_resistivity_diff)\n",
    "print(\"         standard deviation: \", wafer2_resistivity_std)\n",
    "print(\"         variance: \", wafer2_resistivity_std**2)\n",
    "\n",
    "print(\"Wafer 3: \")\n",
    "print(\"         min: \", np.min(wafer3_resistivity))\n",
    "print(\"         max: \", np.max(wafer3_resistivity))\n",
    "print(\"         pct diff from mean of max and min: \", wafer3_resistivity_diff)\n",
    "print(\"         standard deviation: \", wafer3_resistivity_std)\n",
    "print(\"         variance: \", wafer3_resistivity_std**2)\n"
   ]
  },
  {
   "cell_type": "code",
   "execution_count": 100,
   "metadata": {},
   "outputs": [
    {
     "data": {
      "image/png": "[encoded data removed]",
      "text/plain": [
       "<Figure size 640x480 with 1 Axes>"
      ]
     },
     "metadata": {},
     "output_type": "display_data"
    }
   ],
   "source": [
    "# plotting the error bars\n",
    "\n",
    "plt.errorbar(wafer1_resistivity, wafer1_avg_impurity_concentration_arr, yerr=wafer1_resistivity_std, fmt='o', color='blue', markersize=0.5)\n",
    "plt.errorbar(wafer2_resistivity, wafer2_avg_impurity_concentration_arr, yerr=wafer2_resistivity_std, fmt='o', color='red', markersize=0.5)\n",
    "plt.errorbar(wafer3_resistivity, wafer3_avg_impurity_concentration_arr, yerr=wafer3_resistivity_std, fmt='o', color='green', markersize=0.5)\n",
    "plt.legend(['Wafer 1', 'Wafer 2', 'Wafer 3'])\n",
    "plt.xscale('log')\n",
    "plt.yscale('log')\n",
    "plt.xlabel('Resistivity (ohm-cm)')\n",
    "plt.ylabel('Impurity Concentration (cm^-3)')\n",
    "plt.title('Impurity Concentration vs Resistivity Error Bars')\n",
    "plt.show()\n"
   ]
  },
  {
   "cell_type": "markdown",
   "metadata": {},
   "source": [
    "## Estimating expected Resistivity given a Carrier Concentration"
   ]
  },
  {
   "cell_type": "markdown",
   "metadata": {},
   "source": [
    "For a Si p-type (Boron) doped carrier concentration, Na of 1 × 10^17 cm-3 , what range \\\n",
    "of resistivity, ρ, values would you expect to obtain from this sample? Use your class \\\n",
    "averaged data plot and curve-fit from Section 4 to answer this question. Note that a \\\n",
    "range of resistivity is specified, so justify the range that you choose."
   ]
  },
  {
   "cell_type": "code",
   "execution_count": 104,
   "metadata": {},
   "outputs": [
    {
     "name": "stdout",
     "output_type": "stream",
     "text": [
      "Resistivity of Boron:  0.1302275784924744 ohm-cm\n",
      "Range of resistivity of Boron:  0.12581919496421728 ohm-cm to  0.13463596202073153 ohm-cm\n"
     ]
    }
   ],
   "source": [
    "Boron_Na = 1 * 10**17 # cm^-3\n",
    "\n",
    "# behaves most like wafer 2 (from TA Han).\n",
    "# so use the % diff from mean of max and min to estimate the error in the impurity concentration\n",
    "\n",
    "log_boron_Na = np.log(Boron_Na)\n",
    "\n",
    "m = fit[0]\n",
    "b = fit[1]\n",
    "\n",
    "log_resistivity_boron = m * log_boron_Na + b\n",
    "\n",
    "resistivity_boron = np.exp(log_resistivity_boron)\n",
    "\n",
    "print(\"Resistivity of Boron: \", resistivity_boron, \"ohm-cm\")\n",
    "\n",
    "# range of resistivity\n",
    "resistivity_boron_min = resistivity_boron - resistivity_boron * ((wafer2_resistivity_diff * 0.5) / 100)\n",
    "resistivity_boron_max = resistivity_boron + resistivity_boron * ((wafer2_resistivity_diff * 0.5) / 100)\n",
    "\n",
    "print(\"Range of resistivity of Boron: \", resistivity_boron_min, \"ohm-cm to \", resistivity_boron_max, \"ohm-cm\")\n"
   ]
  },
  {
   "cell_type": "markdown",
   "metadata": {},
   "source": [
    "This range was chosen because I calculated the % difference between max and min values \\\n",
    " in previous question. Using the pct difference from wafer 2 (as that is the nearest to \\\n",
    "  our input impurity concentration), we can calculate the error ranges. We do \\\n",
    "   total value +- (error/2 * value) to get the min and max ranges of resistivity for the \\\n",
    "    calculated value of boron"
   ]
  },
  {
   "cell_type": "markdown",
   "metadata": {},
   "source": [
    "# Device Performance based on Doping and Sample Data"
   ]
  },
  {
   "cell_type": "code",
   "execution_count": 108,
   "metadata": {},
   "outputs": [],
   "source": [
    "# lambda function for I in I = V/R\n",
    "I = lambda V, R: V / R\n",
    "\n",
    "def resistance(rho, L, A):\n",
    "    return rho * (L / A)"
   ]
  },
  {
   "cell_type": "code",
   "execution_count": 109,
   "metadata": {},
   "outputs": [
    {
     "name": "stdout",
     "output_type": "stream",
     "text": [
      "Current:  0.038394325210377306 A\n",
      "Current range:  0.03713718032653184 A to  0.03973956439176064 A\n"
     ]
    }
   ],
   "source": [
    "L = 0.001 # cm\n",
    "A = 10**-6 # cm^2\n",
    "V = 5 # V\n",
    "\n",
    "min_R = resistance(resistivity_boron_min, L, A)\n",
    "avg_R = resistance(resistivity_boron, L, A)\n",
    "max_R = resistance(resistivity_boron_max, L, A)\n",
    "\n",
    "min_I = I(V, max_R)\n",
    "avg_I = I(V, avg_R)\n",
    "max_I = I(V, min_R)\n",
    "\n",
    "print(\"Current: \", avg_I, \"A\")\n",
    "print(\"Current range: \", min_I, \"A to \", max_I, \"A\")"
   ]
  },
  {
   "cell_type": "markdown",
   "metadata": {},
   "source": [
    "Refer to question 5 for why we have a range - the potential range carries forward."
   ]
  },
  {
   "cell_type": "code",
   "execution_count": null,
   "metadata": {},
   "outputs": [],
   "source": []
  }
 ],
 "metadata": {
  "kernelspec": {
   "display_name": "base",
   "language": "python",
   "name": "python3"
  },
  "language_info": {
   "codemirror_mode": {
    "name": "ipython",
    "version": 3
   },
   "file_extension": ".py",
   "mimetype": "text/x-python",
   "name": "python",
   "nbconvert_exporter": "python",
   "pygments_lexer": "ipython3",
   "version": "3.11.7"
  }
 },
 "nbformat": 4,
 "nbformat_minor": 2
}
